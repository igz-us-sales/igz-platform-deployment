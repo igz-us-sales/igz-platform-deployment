{
 "cells": [
  {
   "cell_type": "markdown",
   "metadata": {},
   "source": [
    "### Install MLRun"
   ]
  },
  {
   "cell_type": "code",
   "execution_count": 1,
   "metadata": {},
   "outputs": [],
   "source": [
    "# !pip install mlrun"
   ]
  },
  {
   "cell_type": "markdown",
   "metadata": {},
   "source": [
    "### Load Config"
   ]
  },
  {
   "cell_type": "code",
   "execution_count": 2,
   "metadata": {},
   "outputs": [],
   "source": [
    "import yaml\n",
    "with open(\"config.yaml\") as f:\n",
    "    config = yaml.safe_load(f)"
   ]
  },
  {
   "cell_type": "markdown",
   "metadata": {},
   "source": [
    "### Setup MLRun Project"
   ]
  },
  {
   "cell_type": "code",
   "execution_count": 62,
   "metadata": {},
   "outputs": [
    {
     "name": "stdout",
     "output_type": "stream",
     "text": [
      "Project name: horovod-pipeline-template\n",
      "Project path: /User/igz_repos/igz-platform-deployment/horovod/project\n",
      "Artifacts path: /User/igz_repos/igz-platform-deployment/horovod/pipeline\n",
      "MLRun DB path: http://mlrun-api:8080\n"
     ]
    }
   ],
   "source": [
    "import os\n",
    "from os import path, getenv\n",
    "import nuclio\n",
    "from mlrun import new_project, code_to_function, run_local, NewTask, mlconf, import_function, mount_v3io, new_function\n",
    "\n",
    "project_name = config[\"project\"][\"name\"]\n",
    "project_path = path.abspath('project')\n",
    "project = new_project(name=project_name, context=project_path)\n",
    "artifact_path = path.abspath('pipeline')\n",
    "mlconf.dbpath = mlconf.dbpath or 'http://mlrun-api:8080'\n",
    "\n",
    "print(f'Project name: {project_name}\\nProject path: {project_path}')\n",
    "print(f'Artifacts path: {artifact_path}\\nMLRun DB path: {mlconf.dbpath}')"
   ]
  },
  {
   "cell_type": "markdown",
   "metadata": {},
   "source": [
    "### Import Functions"
   ]
  },
  {
   "cell_type": "code",
   "execution_count": 63,
   "metadata": {},
   "outputs": [
    {
     "data": {
      "text/plain": [
       "<mlrun.runtimes.function.RemoteRuntime at 0x7f5bdb719410>"
      ]
     },
     "execution_count": 63,
     "metadata": {},
     "output_type": "execute_result"
    }
   ],
   "source": [
    "# Syntax for normal MLRun job\n",
    "project.set_function(func='utils.py',\n",
    "                     name='utils',\n",
    "                     kind='job',\n",
    "                     image='mlrun/mlrun')\n",
    "\n",
    "# Slightly different syntax for MPIJob\n",
    "HOROVOD_FILE = os.path.join(project_path, config['trainer']['script'])\n",
    "project.set_function(new_function(name='trainer',\n",
    "                                  kind='mpijob',\n",
    "                                  command=HOROVOD_FILE))\n",
    "\n",
    "# Import function from MLRun function marketplace\n",
    "project.set_function('hub://tf2_serving', 'serving')"
   ]
  },
  {
   "cell_type": "markdown",
   "metadata": {},
   "source": [
    "### Pipeline"
   ]
  },
  {
   "cell_type": "code",
   "execution_count": 64,
   "metadata": {},
   "outputs": [
    {
     "name": "stdout",
     "output_type": "stream",
     "text": [
      "Overwriting /User/igz_repos/igz-platform-deployment/horovod/project/workflow.py\n"
     ]
    }
   ],
   "source": [
    "%%writefile {path.join(project_path, 'workflow.py')}\n",
    "\n",
    "from kfp import dsl\n",
    "from mlrun import mount_v3io\n",
    "import yaml\n",
    "\n",
    "with open(\"config.yaml\") as f:\n",
    "    config = yaml.safe_load(f)\n",
    "\n",
    "funcs = {}\n",
    "\n",
    "# Configure function resources\n",
    "def init_functions(functions: dict, project=None, secrets=None):\n",
    "    # Mount V3IO data layer to pipeline components\n",
    "    for f in functions.values():\n",
    "        f.apply(mount_v3io())\n",
    "       \n",
    "    # Configuration for training function\n",
    "    image = lambda gpu: 'mlrun/ml-models-gpu' if gpu else 'mlrun/ml-models' \n",
    "    functions['trainer'].spec.image = image(config['trainer']['resources']['use_gpu'])\n",
    "    functions['trainer'].with_requests(cpu=config['trainer']['resources']['requests']['cpu'],\n",
    "                                       mem=config['trainer']['resources']['requests']['mem'])\n",
    "    functions['trainer'].with_limits(cpu=config['trainer']['resources']['limits']['cpu'],\n",
    "                                     mem=config['trainer']['resources']['limits']['mem'])\n",
    "    if config['trainer']['resources']['use_gpu']:\n",
    "        functions['trainer'].gpus(1)\n",
    "    \n",
    "    # Configuration for serving function\n",
    "    functions['serving'].set_env('MODEL_CLASS', config['serving']['model_class'])\n",
    "    functions['serving'].set_env('IMAGE_HEIGHT', config['serving']['image_height'])\n",
    "    functions['serving'].set_env('IMAGE_WIDTH', config['serving']['image_width'])\n",
    "    functions['serving'].set_env('ENABLE_EXPLAINER', config['serving']['enable_explainer'])\n",
    "    functions['serving'].spec.min_replicas = config['serving']['min_replicas']\n",
    "\n",
    "# Create a Kubeflow Pipelines pipeline\n",
    "@dsl.pipeline(\n",
    "    name='Image classification demo',\n",
    "    description='Train an Image Classification TF Algorithm using MLRun'\n",
    ")\n",
    "def kfpipeline():\n",
    "\n",
    "    # step 1: download images\n",
    "    open_archive = funcs['utils'].as_step(name='download',\n",
    "                                          handler='open_archive',\n",
    "                                          params={'target_path': config['utils']['images_dir']},\n",
    "                                          inputs={'archive_url': config['utils']['image_archive']},\n",
    "                                          outputs=['content'])\n",
    "\n",
    "    # step 2: label images\n",
    "    source_dir = str(open_archive.outputs['content']) + '/cats_n_dogs'\n",
    "    label = funcs['utils'].as_step(name='label',\n",
    "                                   handler='categories_map_builder',\n",
    "                                   params={'source_dir': source_dir},\n",
    "                                   outputs=['categories_map',\n",
    "                                            'file_categories'])\n",
    "\n",
    "    # step 3: train the model\n",
    "    params = config['trainer']['params']\n",
    "    params['data_path'] = source_dir\n",
    "    train = funcs['trainer'].as_step(name='train',\n",
    "                                     params=params,\n",
    "                                     inputs={\n",
    "                                         'categories_map': label.outputs['categories_map'],\n",
    "                                         'file_categories': label.outputs['file_categories']},\n",
    "                                     outputs=['model'])\n",
    "\n",
    "    # deploy the model using nuclio functions\n",
    "    deploy = funcs['serving'].deploy_step(models={config['serving']['model_name']: train.outputs['model']})\n"
   ]
  },
  {
   "cell_type": "markdown",
   "metadata": {},
   "source": [
    "### Save Pipeline"
   ]
  },
  {
   "cell_type": "code",
   "execution_count": 65,
   "metadata": {},
   "outputs": [],
   "source": [
    "project.set_workflow('main', 'workflow.py')\n",
    "project.save()"
   ]
  },
  {
   "cell_type": "code",
   "execution_count": 66,
   "metadata": {},
   "outputs": [
    {
     "data": {
      "text/html": [
       "Experiment link <a href=\"https://dashboard.default-tenant.app.us-sales.iguazio-cd2.com/pipelines/#/experiments/details/4b245558-d7aa-48c2-8b1c-5cd671f9b054\" target=\"_blank\" >here</a>"
      ],
      "text/plain": [
       "<IPython.core.display.HTML object>"
      ]
     },
     "metadata": {},
     "output_type": "display_data"
    },
    {
     "data": {
      "text/html": [
       "Run link <a href=\"https://dashboard.default-tenant.app.us-sales.iguazio-cd2.com/pipelines/#/runs/details/a93d0b26-7619-4f92-9e3e-3825a7f44c3f\" target=\"_blank\" >here</a>"
      ],
      "text/plain": [
       "<IPython.core.display.HTML object>"
      ]
     },
     "metadata": {},
     "output_type": "display_data"
    },
    {
     "name": "stdout",
     "output_type": "stream",
     "text": [
      "> 2021-01-08 00:47:25,160 [info] Pipeline run id=a93d0b26-7619-4f92-9e3e-3825a7f44c3f, check UI or DB for progress\n"
     ]
    }
   ],
   "source": [
    "run_id = project.run(\n",
    "    'main',\n",
    "    arguments={}, \n",
    "    artifact_path=path.abspath(path.join('pipeline','{{workflow.uid}}')), \n",
    "    dirty=True)"
   ]
  },
  {
   "cell_type": "code",
   "execution_count": 57,
   "metadata": {},
   "outputs": [
    {
     "ename": "RuntimeError",
     "evalue": "run status Failed not in expected statuses",
     "output_type": "error",
     "traceback": [
      "\u001b[0;31m---------------------------------------------------------------------------\u001b[0m",
      "\u001b[0;31mRuntimeError\u001b[0m                              Traceback (most recent call last)",
      "\u001b[0;32m<ipython-input-57-375f91ed7ae2>\u001b[0m in \u001b[0;36m<module>\u001b[0;34m\u001b[0m\n\u001b[1;32m      1\u001b[0m \u001b[0;32mfrom\u001b[0m \u001b[0mmlrun\u001b[0m \u001b[0;32mimport\u001b[0m \u001b[0mwait_for_pipeline_completion\u001b[0m\u001b[0;34m\u001b[0m\u001b[0;34m\u001b[0m\u001b[0m\n\u001b[0;32m----> 2\u001b[0;31m \u001b[0mwait_for_pipeline_completion\u001b[0m\u001b[0;34m(\u001b[0m\u001b[0mrun_id\u001b[0m\u001b[0;34m,\u001b[0m \u001b[0mtimeout\u001b[0m\u001b[0;34m=\u001b[0m\u001b[0;36m3600\u001b[0m\u001b[0;34m)\u001b[0m\u001b[0;34m;\u001b[0m\u001b[0;34m\u001b[0m\u001b[0;34m\u001b[0m\u001b[0m\n\u001b[0m",
      "\u001b[0;32m~/.pythonlibs/nick-jupyter/lib/python3.7/site-packages/mlrun/run.py\u001b[0m in \u001b[0;36mwait_for_pipeline_completion\u001b[0;34m(run_id, timeout, expected_statuses, namespace)\u001b[0m\n\u001b[1;32m    854\u001b[0m     \u001b[0;32mif\u001b[0m \u001b[0mexpected_statuses\u001b[0m\u001b[0;34m:\u001b[0m\u001b[0;34m\u001b[0m\u001b[0;34m\u001b[0m\u001b[0m\n\u001b[1;32m    855\u001b[0m         \u001b[0;32mif\u001b[0m \u001b[0mstatus\u001b[0m \u001b[0;32mnot\u001b[0m \u001b[0;32min\u001b[0m \u001b[0mexpected_statuses\u001b[0m\u001b[0;34m:\u001b[0m\u001b[0;34m\u001b[0m\u001b[0;34m\u001b[0m\u001b[0m\n\u001b[0;32m--> 856\u001b[0;31m             \u001b[0;32mraise\u001b[0m \u001b[0mRuntimeError\u001b[0m\u001b[0;34m(\u001b[0m\u001b[0;34mf\"run status {status} not in expected statuses\"\u001b[0m\u001b[0;34m)\u001b[0m\u001b[0;34m\u001b[0m\u001b[0;34m\u001b[0m\u001b[0m\n\u001b[0m\u001b[1;32m    857\u001b[0m \u001b[0;34m\u001b[0m\u001b[0m\n\u001b[1;32m    858\u001b[0m     logger.debug(\n",
      "\u001b[0;31mRuntimeError\u001b[0m: run status Failed not in expected statuses"
     ]
    }
   ],
   "source": [
    "from mlrun import wait_for_pipeline_completion\n",
    "wait_for_pipeline_completion(run_id, timeout=3600);"
   ]
  },
  {
   "cell_type": "markdown",
   "metadata": {},
   "source": [
    "## Test the serving function"
   ]
  },
  {
   "cell_type": "markdown",
   "metadata": {},
   "source": [
    "After the function has been deployed we can test it as a regular REST Endpoint using `requests`."
   ]
  },
  {
   "cell_type": "code",
   "execution_count": null,
   "metadata": {},
   "outputs": [],
   "source": [
    "import requests\n",
    "from PIL import Image\n",
    "from io import BytesIO\n",
    "import matplotlib.pyplot as plt"
   ]
  },
  {
   "cell_type": "markdown",
   "metadata": {},
   "source": [
    "### Define test params"
   ]
  },
  {
   "cell_type": "code",
   "execution_count": null,
   "metadata": {},
   "outputs": [],
   "source": [
    "# Testing event\n",
    "cat_image_url = 'https://s3.amazonaws.com/iguazio-sample-data/images/catanddog/cat.102.jpg'\n",
    "response = requests.get(cat_image_url)\n",
    "cat_image = response.content\n",
    "img = Image.open(BytesIO(cat_image))\n",
    "\n",
    "print('Test image:')\n",
    "plt.imshow(img)"
   ]
  },
  {
   "cell_type": "markdown",
   "metadata": {},
   "source": [
    "### Test The Serving Function (with Image URL)"
   ]
  },
  {
   "cell_type": "code",
   "execution_count": null,
   "metadata": {},
   "outputs": [],
   "source": [
    "addr = 'http://nuclio-{}-{}:8080'.format(hvdproj.name, hvdproj.func('serving').metadata.name)\n",
    "\n",
    "headers = {'Content-type': 'image/jpeg'}\n",
    "url = addr + f'/cat_vs_dog_tf{tf_ver}/predict'\n",
    "\n",
    "response = requests.post(url=url, \n",
    "                         data=json.dumps({'data_url': cat_image_url}), \n",
    "                         headers=headers)\n",
    "print(response.content.decode('utf-8'))"
   ]
  },
  {
   "cell_type": "code",
   "execution_count": null,
   "metadata": {},
   "outputs": [],
   "source": [
    "%%timeit \n",
    "requests.post(url=url, \n",
    "              data=json.dumps({'data_url': cat_image_url}), \n",
    "              headers=headers)"
   ]
  },
  {
   "cell_type": "markdown",
   "metadata": {},
   "source": [
    "### Test The Serving Function (with Jpeg Image)"
   ]
  },
  {
   "cell_type": "code",
   "execution_count": null,
   "metadata": {},
   "outputs": [],
   "source": [
    "headers = {'Content-type': 'image/jpeg'}\n",
    "response = requests.post(url=url, \n",
    "                         data=cat_image, \n",
    "                         headers=headers)\n",
    "print(response.content.decode('utf-8'))"
   ]
  },
  {
   "cell_type": "code",
   "execution_count": null,
   "metadata": {},
   "outputs": [],
   "source": [
    "%%timeit\n",
    "requests.post(url=url, \n",
    "              data=cat_image, \n",
    "              headers=headers)"
   ]
  },
  {
   "cell_type": "markdown",
   "metadata": {},
   "source": [
    "**[back to top](#top)**"
   ]
  },
  {
   "cell_type": "code",
   "execution_count": null,
   "metadata": {},
   "outputs": [],
   "source": []
  }
 ],
 "metadata": {
  "kernelspec": {
   "display_name": "Python 3",
   "language": "python",
   "name": "python3"
  },
  "language_info": {
   "codemirror_mode": {
    "name": "ipython",
    "version": 3
   },
   "file_extension": ".py",
   "mimetype": "text/x-python",
   "name": "python",
   "nbconvert_exporter": "python",
   "pygments_lexer": "ipython3",
   "version": "3.7.6"
  }
 },
 "nbformat": 4,
 "nbformat_minor": 4
}
