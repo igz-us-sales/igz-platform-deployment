{
 "cells": [
  {
   "cell_type": "markdown",
   "metadata": {},
   "source": [
    "### Install MLRun"
   ]
  },
  {
   "cell_type": "code",
   "execution_count": null,
   "metadata": {},
   "outputs": [],
   "source": [
    "# !pip install mlrun"
   ]
  },
  {
   "cell_type": "markdown",
   "metadata": {},
   "source": [
    "### Setup MLRun Project"
   ]
  },
  {
   "cell_type": "code",
   "execution_count": null,
   "metadata": {},
   "outputs": [],
   "source": [
    "import os\n",
    "from os import path, getenv\n",
    "import nuclio\n",
    "from mlrun import new_project, code_to_function, run_local, NewTask, mlconf, import_function, mount_v3io, new_function\n",
    "\n",
    "project_name = 'horovod-pipeline-template'\n",
    "project_path = path.abspath('project')\n",
    "project = new_project(name=project_name, context=project_path)\n",
    "artifact_path = path.abspath('pipeline')\n",
    "mlconf.dbpath = mlconf.dbpath or 'http://mlrun-api:8080'\n",
    "\n",
    "print(f'Project name: {project_name}\\nProject path: {project_path}')\n",
    "print(f'Artifacts path: {artifact_path}\\nMLRun DB path: {mlconf.dbpath}')"
   ]
  },
  {
   "cell_type": "markdown",
   "metadata": {},
   "source": [
    "### Import Functions"
   ]
  },
  {
   "cell_type": "code",
   "execution_count": null,
   "metadata": {},
   "outputs": [],
   "source": [
    "# Syntax for normal MLRun job\n",
    "project.set_function(func='utils.py',\n",
    "                     name='utils',\n",
    "                     kind='job',\n",
    "                     image='mlrun/mlrun')\n",
    "\n",
    "# Slightly different syntax for MPIJob\n",
    "HOROVOD_FILE = os.path.join(project_path, 'training.py')\n",
    "project.set_function(new_function(name='trainer',\n",
    "                                  kind='mpijob',\n",
    "                                  command=HOROVOD_FILE))\n",
    "\n",
    "# Import function from MLRun function marketplace\n",
    "project.set_function('hub://tf2_serving', 'serving')"
   ]
  },
  {
   "cell_type": "markdown",
   "metadata": {},
   "source": [
    "### Pipeline"
   ]
  },
  {
   "cell_type": "code",
   "execution_count": null,
   "metadata": {},
   "outputs": [],
   "source": [
    "%%writefile {path.join(project_path, 'workflow.py')}\n",
    "\n",
    "from kfp import dsl\n",
    "from mlrun import mount_v3io\n",
    "import yaml\n",
    "\n",
    "use_gpu = False\n",
    "\n",
    "funcs = {}\n",
    "\n",
    "# Configure function resources\n",
    "def init_functions(functions: dict, project=None, secrets=None):\n",
    "    # Mount V3IO data layer to pipeline components\n",
    "    for f in functions.values():\n",
    "        f.apply(mount_v3io())\n",
    "       \n",
    "    # Configuration for training function\n",
    "    image = lambda gpu: 'mlrun/ml-models-gpu' if gpu else 'mlrun/ml-models' \n",
    "    functions['trainer'].spec.image = image(use_gpu)\n",
    "    functions['trainer'].with_requests(cpu=1, mem=\"3G\")\n",
    "    functions['trainer'].with_limits(cpu=2, mem=\"5G\")\n",
    "    functions['trainer'].spec.replicas = 1\n",
    "    if use_gpu:\n",
    "        functions['trainer'].gpus(1)\n",
    "    \n",
    "    # Configuration for serving function\n",
    "    functions['serving'].set_env('MODEL_CLASS', 'TFModel')\n",
    "    functions['serving'].set_env('IMAGE_HEIGHT', \"128\")\n",
    "    functions['serving'].set_env('IMAGE_WIDTH', \"128\")\n",
    "    functions['serving'].set_env('ENABLE_EXPLAINER', \"False\")\n",
    "    functions[\"serving\"].spec.base_spec['spec']['loggerSinks'] = [{'level': 'info'}]\n",
    "    functions['serving'].spec.min_replicas = 1\n",
    "    functions['serving'].spec.max_replicas = 1\n",
    "\n",
    "# Create a Kubeflow Pipelines pipeline\n",
    "@dsl.pipeline(\n",
    "    name='Image classification demo',\n",
    "    description='Train an Image Classification TF Algorithm using MLRun'\n",
    ")\n",
    "def kfpipeline(target_path='images',\n",
    "               archive_url='http://iguazio-sample-data.s3.amazonaws.com/catsndogs.zip',\n",
    "               checkpoints_dir='models/checkpoints',\n",
    "               model_name='cat_vs_dog_tfv2',\n",
    "               epochs=1,\n",
    "               batch_size=256):\n",
    "\n",
    "    # step 1: download images\n",
    "    open_archive = funcs['utils'].as_step(name='download',\n",
    "                                          handler='open_archive',\n",
    "                                          params={'target_path': target_path},\n",
    "                                          inputs={'archive_url': archive_url},\n",
    "                                          outputs=['content'])\n",
    "\n",
    "    # step 2: label images\n",
    "    source_dir = str(open_archive.outputs['content']) + '/cats_n_dogs'\n",
    "    label = funcs['utils'].as_step(name='label',\n",
    "                                   handler='categories_map_builder',\n",
    "                                   params={'source_dir': source_dir},\n",
    "                                   outputs=['categories_map',\n",
    "                                            'file_categories'])\n",
    "\n",
    "    # step 3: train the model\n",
    "    train = funcs['trainer'].as_step(name='train',\n",
    "                                     params={'epochs': epochs,\n",
    "                                             'checkpoints_dir': checkpoints_dir,\n",
    "                                             'data_path'      : source_dir,\n",
    "                                             'model_dir'     : 'tfmodels',\n",
    "                                             'batch_size'     : batch_size},\n",
    "                                     inputs={\n",
    "                                         'categories_map': label.outputs['categories_map'],\n",
    "                                         'file_categories': label.outputs['file_categories']},\n",
    "                                     outputs=['model'])\n",
    "\n",
    "    # deploy the model using nuclio functions\n",
    "    deploy = funcs['serving'].deploy_step(models={model_name: train.outputs['model']})\n"
   ]
  },
  {
   "cell_type": "markdown",
   "metadata": {},
   "source": [
    "### Save Pipeline"
   ]
  },
  {
   "cell_type": "code",
   "execution_count": null,
   "metadata": {},
   "outputs": [],
   "source": [
    "project.set_workflow('main', 'workflow.py')\n",
    "project.save()"
   ]
  },
  {
   "cell_type": "code",
   "execution_count": null,
   "metadata": {},
   "outputs": [],
   "source": [
    "run_id = project.run(\n",
    "    'main',\n",
    "    arguments={}, \n",
    "    artifact_path=path.abspath(path.join('pipeline','{{workflow.uid}}')), \n",
    "    dirty=True)"
   ]
  },
  {
   "cell_type": "code",
   "execution_count": null,
   "metadata": {},
   "outputs": [],
   "source": [
    "from mlrun import wait_for_pipeline_completion\n",
    "wait_for_pipeline_completion(run_id, timeout=3600);"
   ]
  },
  {
   "cell_type": "markdown",
   "metadata": {},
   "source": [
    "## Test the serving function"
   ]
  },
  {
   "cell_type": "markdown",
   "metadata": {},
   "source": [
    "After the function has been deployed we can test it as a regular REST Endpoint using `requests`."
   ]
  },
  {
   "cell_type": "code",
   "execution_count": null,
   "metadata": {},
   "outputs": [],
   "source": [
    "import requests\n",
    "from PIL import Image\n",
    "from io import BytesIO\n",
    "import matplotlib.pyplot as plt"
   ]
  },
  {
   "cell_type": "markdown",
   "metadata": {},
   "source": [
    "### Define test params"
   ]
  },
  {
   "cell_type": "code",
   "execution_count": null,
   "metadata": {},
   "outputs": [],
   "source": [
    "# Testing event\n",
    "cat_image_url = 'https://s3.amazonaws.com/iguazio-sample-data/images/catanddog/cat.102.jpg'\n",
    "response = requests.get(cat_image_url)\n",
    "cat_image = response.content\n",
    "img = Image.open(BytesIO(cat_image))\n",
    "\n",
    "print('Test image:')\n",
    "plt.imshow(img)"
   ]
  },
  {
   "cell_type": "markdown",
   "metadata": {},
   "source": [
    "### Test The Serving Function (with Image URL)"
   ]
  },
  {
   "cell_type": "code",
   "execution_count": null,
   "metadata": {},
   "outputs": [],
   "source": [
    "addr = 'http://nuclio-{}-{}:8080'.format(project.name, project.func('serving').metadata.name)\n",
    "\n",
    "headers = {'Content-type': 'image/jpeg'}\n",
    "url = addr + f\"/cat_vs_dog_tfv2/predict\"\n",
    "\n",
    "response = requests.post(url=url, \n",
    "                         data=json.dumps({'data_url': cat_image_url}), \n",
    "                         headers=headers)\n",
    "print(response.content.decode('utf-8'))"
   ]
  },
  {
   "cell_type": "code",
   "execution_count": null,
   "metadata": {},
   "outputs": [],
   "source": [
    "%%timeit \n",
    "requests.post(url=url, \n",
    "              data=json.dumps({'data_url': cat_image_url}), \n",
    "              headers=headers)"
   ]
  },
  {
   "cell_type": "markdown",
   "metadata": {},
   "source": [
    "### Test The Serving Function (with Jpeg Image)"
   ]
  },
  {
   "cell_type": "code",
   "execution_count": null,
   "metadata": {},
   "outputs": [],
   "source": [
    "headers = {'Content-type': 'image/jpeg'}\n",
    "response = requests.post(url=url, \n",
    "                         data=cat_image, \n",
    "                         headers=headers)\n",
    "print(response.content.decode('utf-8'))"
   ]
  },
  {
   "cell_type": "code",
   "execution_count": null,
   "metadata": {},
   "outputs": [],
   "source": [
    "%%timeit\n",
    "requests.post(url=url, \n",
    "              data=cat_image, \n",
    "              headers=headers)"
   ]
  }
 ],
 "metadata": {
  "kernelspec": {
   "display_name": "Python 3",
   "language": "python",
   "name": "python3"
  },
  "language_info": {
   "codemirror_mode": {
    "name": "ipython",
    "version": 3
   },
   "file_extension": ".py",
   "mimetype": "text/x-python",
   "name": "python",
   "nbconvert_exporter": "python",
   "pygments_lexer": "ipython3",
   "version": "3.7.6"
  }
 },
 "nbformat": 4,
 "nbformat_minor": 4
}
